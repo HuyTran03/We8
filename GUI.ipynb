{
 "cells": [
  {
   "cell_type": "code",
   "execution_count": 1,
   "metadata": {},
   "outputs": [],
   "source": [
    "import tkinter as tk \n",
    "from tkinter.scrolledtext import *\n",
    "import datetime\n",
    "from tkinter_input_box.input_box import InputBox\n",
    "from tkinter import Frame, Text, Scrollbar, Pack, Grid, Place\n",
    "from tkinter.constants import RIGHT, LEFT, Y, BOTH"
   ]
  },
  {
   "cell_type": "code",
   "execution_count": 2,
   "metadata": {},
   "outputs": [],
   "source": [
    "__all__ = ['ScrolledText']\n",
    "\n",
    "# Make auto scroll without any scrollbar (code commented out)\n",
    "\n",
    "class ScrolledText(Text):\n",
    "    def __init__(self, master=None, **kw):\n",
    "        self.frame = Frame(master)\n",
    "        # self.vbar = Scrollbar(self.frame)\n",
    "        # self.vbar.pack(side=RIGHT, fill=Y)\n",
    "\n",
    "        # kw.update({'yscrollcommand': self.vbar.set})\n",
    "        Text.__init__(self, self.frame, **kw)\n",
    "        self.pack(side=LEFT, fill=BOTH, expand=True)\n",
    "        # self.vbar['command'] = self.yview\n",
    "\n",
    "        # Copy geometry methods of self.frame without overriding Text\n",
    "        # methods -- hack!\n",
    "        text_meths = vars(Text).keys()\n",
    "        methods = vars(Pack).keys() | vars(Grid).keys() | vars(Place).keys()\n",
    "        methods = methods.difference(text_meths)\n",
    "\n",
    "        for m in methods:\n",
    "            if m[0] != '_' and m != 'config' and m != 'configure':\n",
    "                setattr(self, m, getattr(self.frame, m))\n",
    "\n",
    "    def __str__(self):\n",
    "        return str(self.frame)\n",
    "\n",
    "\n",
    "def example():\n",
    "    from tkinter.constants import END\n",
    "\n",
    "    stext = ScrolledText(bg='white', height=10)\n",
    "    stext.insert(END, __doc__)\n",
    "    stext.pack(fill=BOTH, side=LEFT, expand=True)\n",
    "    stext.focus_set()\n",
    "    stext.mainloop()"
   ]
  },
  {
   "cell_type": "code",
   "execution_count": 3,
   "metadata": {},
   "outputs": [],
   "source": [
    "def on_submit(event=None):\n",
    "    user_input = input_field.get().lower()\n",
    "   # User message (tag is user)\n",
    "    output_field.config(state='normal')\n",
    "    output_field.tag_config('user', foreground='white', background='#535353')\n",
    "    output_field.insert('end', '\\n' + user_input + '\\n\\n', 'user')\n",
    "    \n",
    "    # Chatbot response (tag is response)\n",
    "    output_field.tag_config('response', foreground='white', background='#333333')\n",
    "    output_field.insert('end', '\\nBert: ', 'response')\n",
    "    \n",
    "    if user_input == 'hi':\n",
    "        output_field.insert('end', 'Hello, how can I help you?\\n\\n', 'blue')\n",
    "    elif user_input == 'how are you':\n",
    "        output_field.insert('end', 'I am Okay. How about you?\\n\\n', 'blue')\n",
    "    elif user_input == 'how old are you':\n",
    "        output_field.insert('end', 'My creator just brought me to life in front of you. I am not much older than 10 minutes.\\n\\n', 'blue')\n",
    "    elif user_input == 'what time is it':\n",
    "        now = datetime.datetime.now()\n",
    "        output_field.insert('end', \"It's \"+ now.strftime(\"%H:%M:%S %p\")+'\\n\\n', 'blue')\n",
    "    elif user_input == 'bye':\n",
    "        output_field.insert('end', 'Goodbye, have a nice day!\\n\\n', 'blue')\n",
    "    else:\n",
    "        # output_field.tag_config('response', font=(\"Futura bold\", 30))\n",
    "        # output_field.insert('end', 'I LIKE PENIS\\n\\n', 'response')\n",
    "        output_field.insert('end', 'I am sorry, I do not understand.\\n\\n', 'response')\n",
    "\n",
    "    input_field.delete(0, 'end')\n",
    "    output_field.yview(tk.END)\n",
    "    output_field.config(state='disabled')"
   ]
  },
  {
   "cell_type": "code",
   "execution_count": 4,
   "metadata": {},
   "outputs": [
    {
     "data": {
      "text/plain": [
       "' \\nCODE TO USE WHEN GIVEN MODELS \\n\\ndef on_submit(event=None):\\n    user_input = input_field.get().lower()\\n   # User message (tag is user)\\n    output_field.config(state=\\'normal\\')\\n    output_field.tag_config(\\'user\\', foreground=\\'white\\', background=\\'#535353\\')\\n    output_field.insert(\\'end\\', \\'\\n\\' + user_input + \\'\\n\\n\\', \\'user\\')\\n    \\n    # Chatbot response (tag is response)\\n    output_field.tag_config(\\'response\\', foreground=\\'white\\', background=\\'#333333\\')\\n    output_field.insert(\\'end\\', \\'\\nBert: \\', \\'response\\')\\n    \\n    \\n    # Get restaurant name recommendation \\n    restaurant_recommendation = model_huy_insert_here(user_input)\\n    output_field.tag_config(\\'response\\', foreground=\\'white\\', background=\\'#333333\\', font=(\"Futura bold\", 15))\\n    output_field.insert(\\'end\\', restaurant_recommendation, \\'response\\')\\n    \\n    # Get restaurant details \\n    restaurant_background = model_sophia_insert_here(user_input)\\n    output_field.tag_config(\\'response\\', foreground=\\'white\\', background=\\'#333333\\', font=(\"Futura bold\", 15))\\n    output_field.insert(\\'end\\', restaurant_background, \\'response\\')\\n    \\n    input_field.delete(0, \\'end\\')\\n    output_field.yview(tk.END)\\n    output_field.config(state=\\'disabled\\')\\n\\n'"
      ]
     },
     "execution_count": 4,
     "metadata": {},
     "output_type": "execute_result"
    }
   ],
   "source": [
    "\"\"\" \n",
    "CODE TO USE WHEN GIVEN MODELS \n",
    "\n",
    "def on_submit(event=None):\n",
    "    user_input = input_field.get().lower()\n",
    "   # User message (tag is user)\n",
    "    output_field.config(state='normal')\n",
    "    output_field.tag_config('user', foreground='white', background='#535353')\n",
    "    output_field.insert('end', '\\n' + user_input + '\\n\\n', 'user')\n",
    "    \n",
    "    # Chatbot response (tag is response)\n",
    "    output_field.tag_config('response', foreground='white', background='#333333')\n",
    "    output_field.insert('end', '\\nBert: ', 'response')\n",
    "    \n",
    "    \n",
    "    # Get restaurant name recommendation \n",
    "    restaurant_recommendation = model_huy_insert_here(user_input)\n",
    "    output_field.tag_config('response', foreground='white', background='#333333', font=(\"Futura bold\", 15))\n",
    "    output_field.insert('end', restaurant_recommendation, 'response')\n",
    "    \n",
    "    # Get restaurant details \n",
    "    restaurant_background = model_sophia_insert_here(user_input)\n",
    "    output_field.tag_config('response', foreground='white', background='#333333', font=(\"Futura bold\", 15))\n",
    "    output_field.insert('end', restaurant_background, 'response')\n",
    "    \n",
    "    input_field.delete(0, 'end')\n",
    "    output_field.yview(tk.END)\n",
    "    output_field.config(state='disabled')\n",
    "\n",
    "\"\"\"\n"
   ]
  },
  {
   "cell_type": "code",
   "execution_count": 5,
   "metadata": {},
   "outputs": [
    {
     "data": {
      "text/plain": [
       "''"
      ]
     },
     "execution_count": 5,
     "metadata": {},
     "output_type": "execute_result"
    }
   ],
   "source": [
    "root = tk.Tk()\n",
    "root.title(\"Eating\")"
   ]
  },
  {
   "cell_type": "code",
   "execution_count": 6,
   "metadata": {},
   "outputs": [],
   "source": [
    "# Output Frame \n",
    "output_frame = tk.Frame(root, width=150, height=500, relief = tk.FLAT, background =  \"#65350F\")\n",
    "output_frame.pack_propagate(False)\n",
    "output_frame.pack(side='top', fill='both', expand=True, padx=20)\n",
    "#output_label = tk.Label(output_frame, text=\"Chatbot:\")\n",
    "#output_label.pack(side='left', padx=5, pady=5)\n",
    "\n",
    "# Make autoscrolling when text is full \n",
    "output_field = ScrolledText(output_frame)"
   ]
  },
  {
   "cell_type": "code",
   "execution_count": 7,
   "metadata": {},
   "outputs": [],
   "source": [
    "# Output Text details \n",
    "output_field.pack(side='left', fill='both', expand=True, padx=2, pady=3)\n",
    "output_field.config(state='disabled')\n",
    "output_field.tag_config('user', background='#1a3a46', justify='center')  # I don't think this does anything\n",
    "output_field.tag_config('response', background='lightgreen', justify='center')  # I don't think this does anything \n",
    "output_field.config(font=(\"Futura\", 15))\n",
    "output_field.yview(tk.END)"
   ]
  },
  {
   "cell_type": "code",
   "execution_count": 8,
   "metadata": {},
   "outputs": [],
   "source": [
    "# Input frame\n",
    "input_frame = tk.Frame(root, width=125, height=20, relief = tk.FLAT, highlightbackground = \"#65350F\", highlightthickness = 2, background = \"#EFEADD\")\n",
    "# input_frame.pack_propogate(False)\n",
    "input_frame.pack(padx=20)\n",
    "input_frame.pack(side='bottom', fill='x')\n",
    "#input_label = tk.Label(input_frame, text=\"User:\")\n",
    "#input_label.pack(side='left', padx=5, pady=5)"
   ]
  },
  {
   "cell_type": "code",
   "execution_count": 9,
   "metadata": {},
   "outputs": [
    {
     "data": {
      "text/plain": [
       "'140476574272768on_submit'"
      ]
     },
     "execution_count": 9,
     "metadata": {},
     "output_type": "execute_result"
    }
   ],
   "source": [
    "input_field = tk.Entry(input_frame, width=125, bd=2.5, justify='center', relief = tk.FLAT, highlightbackground = \"#EFEADD\", highlightthickness=1, background = \"#EFEADD\")\n",
    "# input_field = InputBox(root, placeholder=\"What type of food do you like?\", font=(\"\", 15))\n",
    "# input_field.bind_all('<Key>', key_in)\n",
    "input_field.pack(side='left', padx=5, pady=5)\n",
    "input_field.bind(\"<Return>\", on_submit)\n"
   ]
  },
  {
   "cell_type": "code",
   "execution_count": 10,
   "metadata": {},
   "outputs": [],
   "source": [
    "root.mainloop()"
   ]
  },
  {
   "cell_type": "code",
   "execution_count": null,
   "metadata": {},
   "outputs": [],
   "source": [
    "# Things to do: \n",
    "# 1) Consolidate code\n",
    "# 2) try to make pre-emptive text\n",
    "# 3) curved boxes \n",
    "# 4) make it look like texting back and forth "
   ]
  }
 ],
 "metadata": {
  "kernelspec": {
   "display_name": "Python 3",
   "language": "python",
   "name": "python3"
  },
  "language_info": {
   "codemirror_mode": {
    "name": "ipython",
    "version": 3
   },
   "file_extension": ".py",
   "mimetype": "text/x-python",
   "name": "python",
   "nbconvert_exporter": "python",
   "pygments_lexer": "ipython3",
   "version": "3.8.8"
  }
 },
 "nbformat": 4,
 "nbformat_minor": 2
}
