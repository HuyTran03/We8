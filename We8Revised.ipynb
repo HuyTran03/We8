{
 "cells": [
  {
   "cell_type": "code",
   "execution_count": 1,
   "metadata": {},
   "outputs": [
    {
     "name": "stderr",
     "output_type": "stream",
     "text": [
      "c:\\Users\\smhue\\VisualStudio\\venv\\Lib\\site-packages\\tqdm\\auto.py:21: TqdmWarning: IProgress not found. Please update jupyter and ipywidgets. See https://ipywidgets.readthedocs.io/en/stable/user_install.html\n",
      "  from .autonotebook import tqdm as notebook_tqdm\n"
     ]
    }
   ],
   "source": [
    "import os\n",
    "import pandas as pd\n",
    "import numpy as np\n",
    "from sklearn.metrics.pairwise import cosine_similarity\n",
    "from sklearn.cluster import AgglomerativeClustering\n",
    "from sentence_transformers import SentenceTransformer, util"
   ]
  },
  {
   "cell_type": "code",
   "execution_count": 2,
   "metadata": {},
   "outputs": [],
   "source": [
    "\n",
    "reviews = pd.read_csv('reviews.csv')\n"
   ]
  },
  {
   "cell_type": "code",
   "execution_count": 3,
   "metadata": {},
   "outputs": [],
   "source": [
    "#This is the global variable resturant \n",
    "queryResturant = \"Haci'nin Yeri - Yigit Lokantasi\""
   ]
  },
  {
   "cell_type": "code",
   "execution_count": 4,
   "metadata": {},
   "outputs": [],
   "source": [
    "def findAverageRating(restaurant):\n",
    "    \n",
    "    averageRating = reviews[reviews['business_name'] == restaurant]['rating'].mean()\n",
    "\n",
    "    \n",
    "    return averageRating\n"
   ]
  },
  {
   "cell_type": "code",
   "execution_count": 5,
   "metadata": {},
   "outputs": [],
   "source": [
    "findAverageRating(queryResturant)\n",
    "\n",
    "averageRating = findAverageRating(queryResturant)\n",
    "averageRating = round(averageRating, 2)"
   ]
  },
  {
   "cell_type": "code",
   "execution_count": 6,
   "metadata": {},
   "outputs": [],
   "source": [
    "def getReviews(queryResturant):\n",
    "    reviews = pd.read_csv('reviews.csv')\n",
    "    reviews = reviews.loc[reviews['business_name'] == queryResturant]\n",
    "    reviews = reviews['text']\n",
    "    reviews = reviews.values\n",
    "    return reviews\n"
   ]
  },
  {
   "cell_type": "code",
   "execution_count": 7,
   "metadata": {},
   "outputs": [],
   "source": [
    "reviews = getReviews(queryResturant)\n"
   ]
  },
  {
   "cell_type": "code",
   "execution_count": 8,
   "metadata": {},
   "outputs": [],
   "source": [
    "np.random.seed(2022)\n",
    "\n",
    "from sentence_transformers import SentenceTransformer\n",
    "\n",
    "model = SentenceTransformer('multi-qa-mpnet-base-dot-v1')\n",
    "\n",
    "embeddings = model.encode(reviews, convert_to_tensor=True)"
   ]
  },
  {
   "cell_type": "code",
   "execution_count": 9,
   "metadata": {},
   "outputs": [],
   "source": [
    "top_k = 3\n",
    "used_indices = set()\n",
    "usable_corpus = reviews.tolist()\n",
    "original_cluster_labels = reviews.tolist()\n",
    "clusters = []\n",
    "cls_id = 0\n",
    "\n",
    "\n",
    "while(len(used_indices) < len(usable_corpus)):\n",
    "    cls_id += 1\n",
    "    query = usable_corpus[0]\n",
    "    usable_corpus = [label for label in reviews if label not in used_indices]\n",
    "    if query in usable_corpus: \n",
    "        usable_corpus.remove(query)\n",
    "    \n",
    "\n",
    "    #semenatic search\n",
    "    query_embedding = model.encode(query, convert_to_tensor=True)\n",
    "    embeddings = model.encode(usable_corpus, convert_to_tensor=True)\n",
    "    cos_scores = util.pytorch_cos_sim(query_embedding, embeddings)[0]\n",
    "    \n",
    "    for score in cos_scores:\n",
    "        if score > 0.5: \n",
    "          top_results = np.argpartition(-cos_scores, range(top_k))[0:top_k]\n",
    "          top_matches = [usable_corpus[idx] for idx in top_results[0:top_k]]  \n",
    "        else: \n",
    "            continue\n",
    "    \n",
    "  \n",
    "\n",
    "    for idx in top_matches:\n",
    "        used_indices.add(idx)\n",
    "\n",
    "    top_matches.append(query)\n",
    "    used_indices.add(query)\n",
    "\n",
    "    clusters.append(top_matches)\n"
   ]
  },
  {
   "cell_type": "code",
   "execution_count": 10,
   "metadata": {},
   "outputs": [],
   "source": [
    "cluster_labels = []\n",
    "\n",
    "for cluster in clusters:\n",
    "    cluster_embeddings = model.encode(cluster, convert_to_tensor=True)\n",
    "    cos_scores = util.pytorch_cos_sim(cluster_embeddings, cluster_embeddings)\n",
    "    cos_scores = cos_scores.cpu().detach().numpy()\n",
    "    cos_scores = np.max(cos_scores, axis=0)\n",
    "    top_cluster = np.argmax(cos_scores)\n",
    "    cluster_labels.append(cluster[top_cluster])\n",
    "\n"
   ]
  },
  {
   "cell_type": "code",
   "execution_count": 11,
   "metadata": {},
   "outputs": [
    {
     "name": "stdout",
     "output_type": "stream",
     "text": [
      "I recommend that you try out this restaurant:  Haci'nin Yeri - Yigit Lokantasi\n",
      "The average rating of the restaurant is:  4.45\n",
      "From the reviews, the most common experiences are: \n",
      "-  We went to Marmaris with my wife for a holiday. We chose this restaurant as a place for dinner based on the reviews and because we wanted juicy food. When we first went there was a serious queue. You proceed by taking the food you want in the form of an open buffet. Both vegetable dishes and meat dishes were plentiful. There was also dessert for those who wanted it. After you get what you want you pay at the cashier. They don't go through cards they work in cash. There was a lot of food variety. And the food prices were unbelievably cheap. We paid only 84 TL for all the meals here. It included buttermilk and bread. But unfortunately I can't say it's too clean as a place..\n",
      "-  What you see is 125 TL in total. It's a pretty convenient place. We can say that it is an artisan restaurant; you should not expect a restaurant; but they are still quite good in terms of price and performance. As of July 1; prices will increase\n",
      "This will more than likely be your experience when you go to Haci'nin Yeri - Yigit Lokantasi .\n",
      "The overall experience of this restaurant is normally good.\n"
     ]
    }
   ],
   "source": [
    "#The output \n",
    "print(\"I recommend that you try out this restaurant: \", queryResturant)\n",
    "print(\"The average rating of the restaurant is: \", averageRating)\n",
    "\n",
    "print(\"From the reviews, the most common experiences are: \")\n",
    "for label in cluster_labels:\n",
    "    print(\"- \", label)\n",
    "\n",
    "\"The overall experience of this restaurant is normally good.\"\n",
    "print(\"This will more than likely be your experience when you go to\", queryResturant, \".\")\n",
    "if averageRating >= 4.0:\n",
    "    print(\"The overall experience of this restaurant is normally good.\")\n",
    "elif averageRating >= 3.0:\n",
    "    print(\"The overall experience of this restaurant is normally average.\")\n",
    "elif averageRating >= 2.0:\n",
    "    print(\"The overall experience of this restaurant is normally bad.\")\n",
    "else:\n",
    "    print(\"The overall experience of this restaurant is normally awful.\")"
   ]
  }
 ],
 "metadata": {
  "kernelspec": {
   "display_name": "venv",
   "language": "python",
   "name": "python3"
  },
  "language_info": {
   "codemirror_mode": {
    "name": "ipython",
    "version": 3
   },
   "file_extension": ".py",
   "mimetype": "text/x-python",
   "name": "python",
   "nbconvert_exporter": "python",
   "pygments_lexer": "ipython3",
   "version": "3.11.6"
  }
 },
 "nbformat": 4,
 "nbformat_minor": 2
}
